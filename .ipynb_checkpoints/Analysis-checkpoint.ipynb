{
 "cells": [
  {
   "cell_type": "code",
   "execution_count": 2,
   "metadata": {},
   "outputs": [],
   "source": [
    "%matplotlib inline\n",
    "from matplotlib import pyplot as plt\n",
    "import pandas as pd\n",
    "import numpy as np\n",
    "from scipy import stats\n",
    "from statsmodels.stats.multicomp import pairwise_tukeyhsd\n",
    "from statsmodels.stats.multicomp import MultiComparison"
   ]
  },
  {
   "cell_type": "markdown",
   "metadata": {},
   "source": [
    "We start by loading the data and plotting a chunk of it. We specify the date type to make it easier to handle. Knowing that I am going to group data by year and month to count the number of calls in each month, I also directly create a column for each of those two based on the date."
   ]
  },
  {
   "cell_type": "code",
   "execution_count": 3,
   "metadata": {},
   "outputs": [
    {
     "data": {
      "text/html": [
       "<div>\n",
       "<style scoped>\n",
       "    .dataframe tbody tr th:only-of-type {\n",
       "        vertical-align: middle;\n",
       "    }\n",
       "\n",
       "    .dataframe tbody tr th {\n",
       "        vertical-align: top;\n",
       "    }\n",
       "\n",
       "    .dataframe thead th {\n",
       "        text-align: right;\n",
       "    }\n",
       "</style>\n",
       "<table border=\"1\" class=\"dataframe\">\n",
       "  <thead>\n",
       "    <tr style=\"text-align: right;\">\n",
       "      <th></th>\n",
       "      <th>Account manager</th>\n",
       "      <th>Client Name</th>\n",
       "      <th>Date of Contact</th>\n",
       "      <th>Month</th>\n",
       "      <th>Year</th>\n",
       "    </tr>\n",
       "  </thead>\n",
       "  <tbody>\n",
       "    <tr>\n",
       "      <th>0</th>\n",
       "      <td>Milan Crona</td>\n",
       "      <td>Wyman, Farrell and Haag</td>\n",
       "      <td>2015-10-31</td>\n",
       "      <td>10</td>\n",
       "      <td>2015</td>\n",
       "    </tr>\n",
       "    <tr>\n",
       "      <th>1</th>\n",
       "      <td>Aidan Pouros</td>\n",
       "      <td>Veum, McClure and Schuster</td>\n",
       "      <td>2013-12-15</td>\n",
       "      <td>12</td>\n",
       "      <td>2013</td>\n",
       "    </tr>\n",
       "    <tr>\n",
       "      <th>2</th>\n",
       "      <td>Aidan Pouros</td>\n",
       "      <td>Veum, McClure and Schuster</td>\n",
       "      <td>2013-12-07</td>\n",
       "      <td>12</td>\n",
       "      <td>2013</td>\n",
       "    </tr>\n",
       "    <tr>\n",
       "      <th>3</th>\n",
       "      <td>Milan Crona</td>\n",
       "      <td>Armstrong Group</td>\n",
       "      <td>2013-11-02</td>\n",
       "      <td>11</td>\n",
       "      <td>2013</td>\n",
       "    </tr>\n",
       "    <tr>\n",
       "      <th>4</th>\n",
       "      <td>Aidan Pouros</td>\n",
       "      <td>Lueilwitz, Moore and Hahn</td>\n",
       "      <td>2013-12-25</td>\n",
       "      <td>12</td>\n",
       "      <td>2013</td>\n",
       "    </tr>\n",
       "  </tbody>\n",
       "</table>\n",
       "</div>"
      ],
      "text/plain": [
       "  Account manager                 Client Name Date of Contact  Month  Year\n",
       "0     Milan Crona     Wyman, Farrell and Haag      2015-10-31     10  2015\n",
       "1    Aidan Pouros  Veum, McClure and Schuster      2013-12-15     12  2013\n",
       "2    Aidan Pouros  Veum, McClure and Schuster      2013-12-07     12  2013\n",
       "3     Milan Crona             Armstrong Group      2013-11-02     11  2013\n",
       "4    Aidan Pouros   Lueilwitz, Moore and Hahn      2013-12-25     12  2013"
      ]
     },
     "execution_count": 3,
     "metadata": {},
     "output_type": "execute_result"
    }
   ],
   "source": [
    "data = pd.read_csv('data.csv', parse_dates=[2])\n",
    "data['Month'] = data['Date of Contact'].apply(lambda x: x.month)\n",
    "data['Year'] = data['Date of Contact'].apply(lambda x: x.year)\n",
    "data.head(5)"
   ]
  },
  {
   "cell_type": "markdown",
   "metadata": {},
   "source": [
    "As said before, we then group by year and month to count the number of calls tthat happened each month"
   ]
  },
  {
   "cell_type": "code",
   "execution_count": 4,
   "metadata": {},
   "outputs": [
    {
     "data": {
      "text/html": [
       "<div>\n",
       "<style scoped>\n",
       "    .dataframe tbody tr th:only-of-type {\n",
       "        vertical-align: middle;\n",
       "    }\n",
       "\n",
       "    .dataframe tbody tr th {\n",
       "        vertical-align: top;\n",
       "    }\n",
       "\n",
       "    .dataframe thead th {\n",
       "        text-align: right;\n",
       "    }\n",
       "</style>\n",
       "<table border=\"1\" class=\"dataframe\">\n",
       "  <thead>\n",
       "    <tr style=\"text-align: right;\">\n",
       "      <th></th>\n",
       "      <th>Year</th>\n",
       "      <th>Month</th>\n",
       "      <th>Count</th>\n",
       "    </tr>\n",
       "  </thead>\n",
       "  <tbody>\n",
       "    <tr>\n",
       "      <th>0</th>\n",
       "      <td>2013</td>\n",
       "      <td>10</td>\n",
       "      <td>60</td>\n",
       "    </tr>\n",
       "    <tr>\n",
       "      <th>1</th>\n",
       "      <td>2013</td>\n",
       "      <td>11</td>\n",
       "      <td>19</td>\n",
       "    </tr>\n",
       "    <tr>\n",
       "      <th>2</th>\n",
       "      <td>2013</td>\n",
       "      <td>12</td>\n",
       "      <td>20</td>\n",
       "    </tr>\n",
       "    <tr>\n",
       "      <th>3</th>\n",
       "      <td>2014</td>\n",
       "      <td>1</td>\n",
       "      <td>13</td>\n",
       "    </tr>\n",
       "    <tr>\n",
       "      <th>4</th>\n",
       "      <td>2014</td>\n",
       "      <td>2</td>\n",
       "      <td>12</td>\n",
       "    </tr>\n",
       "  </tbody>\n",
       "</table>\n",
       "</div>"
      ],
      "text/plain": [
       "   Year  Month  Count\n",
       "0  2013     10     60\n",
       "1  2013     11     19\n",
       "2  2013     12     20\n",
       "3  2014      1     13\n",
       "4  2014      2     12"
      ]
     },
     "execution_count": 4,
     "metadata": {},
     "output_type": "execute_result"
    }
   ],
   "source": [
    "counts = data.groupby(['Year', 'Month'])['Client Name'].count().reset_index(name='Count')\n",
    "counts.head(5)"
   ]
  },
  {
   "cell_type": "markdown",
   "metadata": {},
   "source": [
    "In order to get an idea of the distribution of the number of calls for each month over the different years, I then create a boxplot of the data for each month."
   ]
  },
  {
   "cell_type": "code",
   "execution_count": 5,
   "metadata": {},
   "outputs": [
    {
     "data": {
      "text/plain": [
       "([<matplotlib.axis.XTick at 0xa05652dd8>,\n",
       "  <matplotlib.axis.XTick at 0xa030fd198>,\n",
       "  <matplotlib.axis.XTick at 0xa0564a278>,\n",
       "  <matplotlib.axis.XTick at 0xa05711be0>,\n",
       "  <matplotlib.axis.XTick at 0xa05715278>,\n",
       "  <matplotlib.axis.XTick at 0xa05715908>,\n",
       "  <matplotlib.axis.XTick at 0xa05715f98>,\n",
       "  <matplotlib.axis.XTick at 0xa05719668>,\n",
       "  <matplotlib.axis.XTick at 0xa05719cf8>,\n",
       "  <matplotlib.axis.XTick at 0xa0571c3c8>,\n",
       "  <matplotlib.axis.XTick at 0xa0571ca58>,\n",
       "  <matplotlib.axis.XTick at 0xa05721128>],\n",
       " <a list of 12 Text xticklabel objects>)"
      ]
     },
     "execution_count": 5,
     "metadata": {},
     "output_type": "execute_result"
    },
    {
     "data": {
      "image/png": "[encoded data removed]",
      "text/plain": [
       "<matplotlib.figure.Figure at 0xa055cb6d8>"
      ]
     },
     "metadata": {},
     "output_type": "display_data"
    }
   ],
   "source": [
    "months = ['Jan', 'Feb', 'Mar', 'Apr', 'May', 'June', 'Jul', 'Aug', 'Sep', 'Oct', 'Nov', 'Dec']\n",
    "counts.boxplot('Count', by='Month', figsize=(12, 8))\n",
    "plt.xticks(range(1,13), months)"
   ]
  },
  {
   "cell_type": "markdown",
   "metadata": {},
   "source": [
    "Looking at the boxplots, October seems to have a signicantly larger number of calls on average. However, given the small sample size for each group, we need to run a formal analysis to be able to decide with some statistical power. A stardard way to do so is to run a one-way ANOVA. This allows us to see if one group has a mean value significantly different from the others. If this first test a significantly positive, we will use a Tukey's test to identify which group(s) differ(s) from the others.\n",
    "But first, we need to test the underlying hypothesis of those tests: the homogeneity of the intra group variances and the normality of the data in each group. For the Normality asumption we use a Shapiro-Wilk test and for the homogeneity we use "
   ]
  },
  {
   "cell_type": "code",
   "execution_count": 6,
   "metadata": {},
   "outputs": [],
   "source": [
    "groups = []\n",
    "for i in range(1,13):\n",
    "    groups.append(list(counts[counts['Month'] == i]['Count']))"
   ]
  },
  {
   "cell_type": "code",
   "execution_count": 7,
   "metadata": {},
   "outputs": [
    {
     "name": "stdout",
     "output_type": "stream",
     "text": [
      "Normality test result from group 1: s=0.8068856596946716, p-value=0.11515290290117264\n",
      "Normality test result from group 2: s=0.9497060179710388, p-value=0.7142806649208069\n",
      "Normality test result from group 3: s=0.8542201519012451, p-value=0.24012276530265808\n",
      "Normality test result from group 4: s=0.8274267315864563, p-value=0.1611907184123993\n",
      "Normality test result from group 5: s=0.8633691072463989, p-value=0.27245327830314636\n",
      "Normality test result from group 6: s=0.7893090844154358, p-value=0.0843890905380249\n",
      "Normality test result from group 7: s=0.8977872133255005, p-value=0.420151025056839\n",
      "Normality test result from group 8: s=0.9763001203536987, p-value=0.8800123929977417\n",
      "Normality test result from group 9: s=0.963072657585144, p-value=0.7982290387153625\n",
      "Normality test result from group 10: s=0.8950161933898926, p-value=0.40672767162323\n",
      "Normality test result from group 11: s=0.9202026128768921, p-value=0.5380836129188538\n",
      "Normality test result from group 12: s=0.9815163612365723, p-value=0.9108563661575317\n"
     ]
    }
   ],
   "source": [
    "#print('Normality Testing Results:')\n",
    "for i in range(len(groups)):\n",
    "    s, p = stats.shapiro(groups[i])\n",
    "    print('Normality test result from group {}: s={}, p-value={}'.format(i+1, s, p))"
   ]
  },
  {
   "cell_type": "markdown",
   "metadata": {},
   "source": [
    "We see that although we come very close to the usual significance level of .05 for group 6 (June) we cannot significantly reject the Normality hypothesis for any month so we will use it. We now turn to the homoscedasticity hopethesis for which we are going to use a bartell test from scipy"
   ]
  },
  {
   "cell_type": "code",
   "execution_count": 8,
   "metadata": {},
   "outputs": [
    {
     "name": "stdout",
     "output_type": "stream",
     "text": [
      "Homoscedasticity Results:\n"
     ]
    },
    {
     "data": {
      "text/plain": [
       "BartlettResult(statistic=15.796343566001342, pvalue=0.14886153981649189)"
      ]
     },
     "execution_count": 8,
     "metadata": {},
     "output_type": "execute_result"
    }
   ],
   "source": [
    "print('Homoscedasticity Results:')\n",
    "stats.bartlett(*groups)"
   ]
  },
  {
   "cell_type": "markdown",
   "metadata": {},
   "source": [
    "Here again, we cannot statistically reject the homoscedasticity hypothesis so we will use it for our testing. We those to hypothesis out of the way, we start the actual test by running a one way ANOVA to see if at least one month has a significantly different number of calls on average than the others."
   ]
  },
  {
   "cell_type": "code",
   "execution_count": 9,
   "metadata": {},
   "outputs": [
    {
     "name": "stdout",
     "output_type": "stream",
     "text": [
      "ANOVA Results:\n"
     ]
    },
    {
     "data": {
      "text/plain": [
       "F_onewayResult(statistic=32.465509365006845, pvalue=2.181633890119064e-15)"
      ]
     },
     "execution_count": 9,
     "metadata": {},
     "output_type": "execute_result"
    }
   ],
   "source": [
    "print('ANOVA Results:')\n",
    "stats.f_oneway(*groups)"
   ]
  },
  {
   "cell_type": "markdown",
   "metadata": {},
   "source": [
    "We can see the one way ANOVA give us a p-value of 2e-15 which is way smaller than the usual confidence level of .05 so we conclude that at least one group is indeed significantly different in mean from the others. We then move to the Tukey's test to identify which one."
   ]
  },
  {
   "cell_type": "code",
   "execution_count": 10,
   "metadata": {},
   "outputs": [
    {
     "name": "stdout",
     "output_type": "stream",
     "text": [
      "Multiple Comparison of Means - Tukey HSD,FWER=0.05\n",
      "===============================================\n",
      "group1 group2 meandiff  lower    upper   reject\n",
      "-----------------------------------------------\n",
      "  1      2      1.0    -8.6225  10.6225  False \n",
      "  1      3      -0.5   -10.1225  9.1225  False \n",
      "  1      4      -2.0   -11.6225  7.6225  False \n",
      "  1      5      2.25   -7.3725  11.8725  False \n",
      "  1      6      4.25   -5.3725  13.8725  False \n",
      "  1      7      1.5    -8.1225  11.1225  False \n",
      "  1      8      4.75   -4.8725  14.3725  False \n",
      "  1      9     15.25    5.6275  24.8725   True \n",
      "  1      10    38.25   28.6275  47.8725   True \n",
      "  1      11     1.25   -8.3725  10.8725  False \n",
      "  1      12     4.25   -5.3725  13.8725  False \n",
      "  2      3      -1.5   -11.1225  8.1225  False \n",
      "  2      4      -3.0   -12.6225  6.6225  False \n",
      "  2      5      1.25   -8.3725  10.8725  False \n",
      "  2      6      3.25   -6.3725  12.8725  False \n",
      "  2      7      0.5    -9.1225  10.1225  False \n",
      "  2      8      3.75   -5.8725  13.3725  False \n",
      "  2      9     14.25    4.6275  23.8725   True \n",
      "  2      10    37.25   27.6275  46.8725   True \n",
      "  2      11     0.25   -9.3725   9.8725  False \n",
      "  2      12     3.25   -6.3725  12.8725  False \n",
      "  3      4      -1.5   -11.1225  8.1225  False \n",
      "  3      5      2.75   -6.8725  12.3725  False \n",
      "  3      6      4.75   -4.8725  14.3725  False \n",
      "  3      7      2.0    -7.6225  11.6225  False \n",
      "  3      8      5.25   -4.3725  14.8725  False \n",
      "  3      9     15.75    6.1275  25.3725   True \n",
      "  3      10    38.75   29.1275  48.3725   True \n",
      "  3      11     1.75   -7.8725  11.3725  False \n",
      "  3      12     4.75   -4.8725  14.3725  False \n",
      "  4      5      4.25   -5.3725  13.8725  False \n",
      "  4      6      6.25   -3.3725  15.8725  False \n",
      "  4      7      3.5    -6.1225  13.1225  False \n",
      "  4      8      6.75   -2.8725  16.3725  False \n",
      "  4      9     17.25    7.6275  26.8725   True \n",
      "  4      10    40.25   30.6275  49.8725   True \n",
      "  4      11     3.25   -6.3725  12.8725  False \n",
      "  4      12     6.25   -3.3725  15.8725  False \n",
      "  5      6      2.0    -7.6225  11.6225  False \n",
      "  5      7     -0.75   -10.3725  8.8725  False \n",
      "  5      8      2.5    -7.1225  12.1225  False \n",
      "  5      9      13.0    3.3775  22.6225   True \n",
      "  5      10     36.0   26.3775  45.6225   True \n",
      "  5      11     -1.0   -10.6225  8.6225  False \n",
      "  5      12     2.0    -7.6225  11.6225  False \n",
      "  6      7     -2.75   -12.3725  6.8725  False \n",
      "  6      8      0.5    -9.1225  10.1225  False \n",
      "  6      9      11.0    1.3775  20.6225   True \n",
      "  6      10     34.0   24.3775  43.6225   True \n",
      "  6      11     -3.0   -12.6225  6.6225  False \n",
      "  6      12     0.0    -9.6225   9.6225  False \n",
      "  7      8      3.25   -6.3725  12.8725  False \n",
      "  7      9     13.75    4.1275  23.3725   True \n",
      "  7      10    36.75   27.1275  46.3725   True \n",
      "  7      11    -0.25   -9.8725   9.3725  False \n",
      "  7      12     2.75   -6.8725  12.3725  False \n",
      "  8      9      10.5    0.8775  20.1225   True \n",
      "  8      10     33.5   23.8775  43.1225   True \n",
      "  8      11     -3.5   -13.1225  6.1225  False \n",
      "  8      12     -0.5   -10.1225  9.1225  False \n",
      "  9      10     23.0   13.3775  32.6225   True \n",
      "  9      11    -14.0   -23.6225 -4.3775   True \n",
      "  9      12    -11.0   -20.6225 -1.3775   True \n",
      "  10     11    -37.0   -46.6225 -27.3775  True \n",
      "  10     12    -34.0   -43.6225 -24.3775  True \n",
      "  11     12     3.0    -6.6225  12.6225  False \n",
      "-----------------------------------------------\n",
      "[ 1  2  3  4  5  6  7  8  9 10 11 12]\n"
     ]
    }
   ],
   "source": [
    "mc = MultiComparison(counts['Count'], counts['Month'])\n",
    "result = mc.tukeyhsd()\n",
    " \n",
    "print(result)\n",
    "print(mc.groupsunique)"
   ]
  },
  {
   "cell_type": "markdown",
   "metadata": {},
   "source": [
    "The analysis of the results of the Tukey's test can be a little bit blurry becase of the number of group by a quick inspection shows us that october (10) has indeed a significantly different mean from each of the the other months. \n",
    "## We can confidently said october is the month when the company is likey to contact the most clients."
   ]
  }
 ],
 "metadata": {
  "kernelspec": {
   "display_name": "Capstone",
   "language": "python",
   "name": "capstone"
  },
  "language_info": {
   "codemirror_mode": {
    "name": "ipython",
    "version": 3
   },
   "file_extension": ".py",
   "mimetype": "text/x-python",
   "name": "python",
   "nbconvert_exporter": "python",
   "pygments_lexer": "ipython3",
   "version": "3.5.4"
  }
 },
 "nbformat": 4,
 "nbformat_minor": 2
}
